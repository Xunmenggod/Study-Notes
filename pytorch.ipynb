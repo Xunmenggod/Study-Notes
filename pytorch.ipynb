{
 "cells": [
  {
   "cell_type": "code",
   "execution_count": 6,
   "metadata": {},
   "outputs": [
    {
     "name": "stdout",
     "output_type": "stream",
     "text": [
      "device name: NVIDIA GeForce RTX 3070 Laptop GPU\n"
     ]
    }
   ],
   "source": [
    "import torch as th\n",
    "import torch.nn as nn\n",
    "import numpy as np\n",
    "\n",
    "device = 'cuda' if th.cuda.is_available() else 'cpu'\n",
    "if device == 'cuda':\n",
    "    print(f'device name: {th.cuda.get_device_name()}')\n"
   ]
  },
  {
   "cell_type": "code",
   "execution_count": 18,
   "metadata": {},
   "outputs": [
    {
     "name": "stdout",
     "output_type": "stream",
     "text": [
      "list test, size: (2, 5)\n",
      "np array test, size: (2, 5)\n",
      "tensor test, tensor: tensor([[-1.2249, -0.7955,  1.0926]]) size: torch.Size([1, 3])\n"
     ]
    }
   ],
   "source": [
    "# torch tensor, python list and numpy array\n",
    "a = [[1,2,3,4,5],[6,7,8,9,10]]\n",
    "b = np.array(a)\n",
    "c  = th.randn(1,3)\n",
    "\n",
    "print(f'list test, size: ({len(a)}, {len(a[0])})')\n",
    "print(f'np array test, size: {b.shape}')\n",
    "print(f'tensor test, tensor: {c} size: {c.shape}')\n",
    "\n"
   ]
  }
 ],
 "metadata": {
  "kernelspec": {
   "display_name": "base",
   "language": "python",
   "name": "python3"
  },
  "language_info": {
   "codemirror_mode": {
    "name": "ipython",
    "version": 3
   },
   "file_extension": ".py",
   "mimetype": "text/x-python",
   "name": "python",
   "nbconvert_exporter": "python",
   "pygments_lexer": "ipython3",
   "version": "3.8.13"
  }
 },
 "nbformat": 4,
 "nbformat_minor": 2
}
