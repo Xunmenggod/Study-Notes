{
 "cells": [
  {
   "cell_type": "markdown",
   "metadata": {},
   "source": [
    "# Principle\n",
    "## Basics\n",
    "- objective: $e = s(m(t),a) - s*$, m(t) is the specific image info, a could represent the camera intrinsic like the system parameter, s encodes the image pixel features\n",
    "- $\\dot{e} = \\dot{s}$, $\\dot{s} = L_sv_c, L_s=L_e$, L_s is the jacobian matrix which describes the relation between camera location and image pixel feature, v_c is the camera velocity including linear and angular\n",
    "- control law: $v_c = -\\lambda L_c^\\dagger e$, assuming $\\dot{e} = -\\lambda e$\n",
    "\n",
    "## Image jacobian\n",
    "- Using intrinsic parameters, the pixel coordinate could be remapped back to homogenous camera coordinate $\\begin{bmatrix} x  \\\\\n",
    "                            y \\end{bmatrix} = \\begin{bmatrix} \\frac{X_c}{Z_c}  \\\\\n",
    "                            \\frac{Y_c}{Z_c} \\end{bmatrix} = \\begin{bmatrix} \\frac{u-c_u}{f}  \\\\\n",
    "                                                \\frac{v-c_v}{f} \\end{bmatrix}$  \n",
    "- $L_c =  \\begin{bmatrix} \\frac{1}{Z} & 0 & -\\frac{x}{Z} & -xy & (1+x^2) & -y  \\\\\n",
    "                           0 & \\frac{1}{Z} & -\\frac{y}{Z} & -(1+y^2) & xy & x \\end{bmatrix}$, please note one feature point in image could provide two function, so we need at lease three feature points to solve all the componets for camera velocity\n",
    "                           "
   ]
  },
  {
   "cell_type": "code",
   "execution_count": 2,
   "metadata": {},
   "outputs": [],
   "source": [
    "import numpy as np\n",
    "def pixel2homoCam(u, v , fx, cx, fy, cy):\n",
    "    x = (u - cx) / fx\n",
    "    y = (v - cy) / fy\n",
    "    return x, y\n",
    "\n",
    "# cam_pts should be homogenous camera coordinate feature points\n",
    "def calImgJac(cam_pts, Z = 1):\n",
    "    pts = cam_pts.reshae(-1,2)\n",
    "    num_pts = len(pts)\n",
    "    jacobian = np.zeros(num_pts*2, 6)\n",
    "    for i in range(num_pts):\n",
    "        x = pts[i, 0]\n",
    "        y = pts[i, 1]\n",
    "        jacobian[i*2:(i+1)*2] = np.array([[1/Z, 0, -x/Z, -x*y, 1+x*x, -y],\n",
    "                                          [0, 1/Z, -y/Z, -(1+y*y) ,x*y, x]])\n",
    "    return jacobian\n",
    "\n",
    "def ibvs(pixel_pts, ref_pts, camera_param, scaling = 0.001):\n",
    "    feature_pts = pixel_pts.reshape(-1,2)\n",
    "    ref_pts = ref_pts.reshape(-1,2)\n",
    "    assert len(ref_pts) == len(feature_pts), 'Not detected the corresponding reference point'\n",
    "    error = ref_pts - feature_pts\n",
    "    error = error.reshape(-1,1) # error becomes 2nx2\n",
    "    assert len(feature_pts) > 3, 'Could not solve the control law due to lack of feature points'\n",
    "    for i in range(len(feature_pts)):\n",
    "        feature_pts[i,0], feature_pts[i,1] = pixel2homoCam(feature_pts[i,0], feature_pts[i,1], \n",
    "                                                           camera_param['fx'], camera_param['cx'],\n",
    "                                                           camera_param['fy'], camera_param['cy'])\n",
    "        jacobian = calImgJac(feature_pts)\n",
    "    cam_vel = - scaling * np.dot(np.linalg.pinv(jacobian), error)\n",
    "    return cam_vel\n",
    "        "
   ]
  }
 ],
 "metadata": {
  "kernelspec": {
   "display_name": "torch",
   "language": "python",
   "name": "python3"
  },
  "language_info": {
   "codemirror_mode": {
    "name": "ipython",
    "version": 3
   },
   "file_extension": ".py",
   "mimetype": "text/x-python",
   "name": "python",
   "nbconvert_exporter": "python",
   "pygments_lexer": "ipython3",
   "version": "3.10.13"
  }
 },
 "nbformat": 4,
 "nbformat_minor": 2
}
