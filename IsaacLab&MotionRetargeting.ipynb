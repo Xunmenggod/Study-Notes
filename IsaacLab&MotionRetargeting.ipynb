{
 "cells": [
  {
   "cell_type": "markdown",
   "id": "a5ac4de0",
   "metadata": {},
   "source": [
    "# Tips for installing isaac lab\n",
    "## using zsh to install the isaaclab\n",
    "- Inside the `/isaacsim/setup_conda_env.sh` Removing the export line in setup_conda_env.sh\n",
    "    ```shell\n",
    "        #!/bin/bash\n",
    "        SCRIPT_DIR=\"$( cd \"$( dirname \"${BASH_SOURCE[0]}\" )\" && pwd )\"\n",
    "        if [ -n \"$ZSH_VERSION\" ]; then\n",
    "            SCRIPT_DIR=\"$( cd \"$( dirname \"$0\" )\" && pwd )\"\n",
    "        -   export BASH_SOURCE=$SCRIPT_DIR/setup_python_env.sh\n",
    "        fi\n",
    "        MY_DIR=\"$(realpath -s \"$SCRIPT_DIR\")\"\n",
    "    ```\n",
    "- Inside the `/isaacsim/setup_python_env.sh`\n",
    "    ```shell\n",
    "        - SCRIPT_DIR=\"$(dirname \"${BASH_SOURCE}\")\"\n",
    "        + SCRIPT_DIR=\"$( cd \"$( dirname \"${BASH_SOURCE[0]}\" )\" && pwd )\"\n",
    "    ```\n",
    "- Inside the isaaclab.sh\n",
    "    ```shell\n",
    "                printf '%s\\n' \\\n",
    "                    '# for Isaac Sim' \\\n",
    "        -           'source '${isaacsim_setup_conda_env_script}'' \\\n",
    "        +           'cd '${ISAACLAB_PATH}'/_isaac_sim' \\\n",
    "        +           'source setup_conda_env.sh' \\\n",
    "        +           'cd $OLDPWD' \\\n",
    "                    '' >> ${CONDA_PREFIX}/etc/conda/activate.d/setenv.sh\n",
    "            fi\n",
    "    ```\n",
    "- **Optional change**\n",
    "- replacing line 19 of isaaclab.sh\n",
    "    ```Shell\n",
    "       export ISAACLAB_PATH=\"$( cd \"$( dirname \"${BASH_SOURCE[0]}\" )\" &> /dev/null && pwd )\"\n",
    "    ``` \n",
    "    to\n",
    "    \n",
    "    ```Shell\n",
    "        if [ -n \"$ZSH_VERSION\" ]; then\n",
    "            export ISAACLAB_PATH=\"$( cd \"$( dirname \"$0\" )\" &> /dev/null && pwd )\"\n",
    "        else\n",
    "            export ISAACLAB_PATH=\"$( cd \"$( dirname \"${BASH_SOURCE[0]}\" )\" &> /dev/null && pwd )\"\n",
    "        fi\n",
    "    ```\n",
    "\n",
    "- And replacing the line\n",
    "```\n",
    "    SCRIPT_DIR=\"$( cd \"$( dirname \"${BASH_SOURCE[0]}\" )\" && pwd )\"\n",
    "```\n",
    "in `_isaac_sim/setup_conda_env.sh` and `_isaac_sim/setup_python_env.sh` to\n",
    "```\n",
    "    # Determine the script directory\n",
    "    if [ -n \"$ZSH_VERSION\" ]; then\n",
    "        SCRIPT_DIR=\"$( cd \"$( dirname \"$0\" )\" && pwd )\"\n",
    "    else\n",
    "        SCRIPT_DIR=\"$( cd \"$( dirname \"${BASH_SOURCE[0]}\" )\" && pwd )\"\n",
    "    fi\n",
    "```\n",
    "- **After modification, you need to ==restart the terminal== to install the isaaclab again**\n",
    "\n",
    "## using isaaclab to run the isaac sim\n",
    "- Inside the isaaclab path, run `source _isaac_sim/setup_conda_env.sh` to connect the isaac sim env into conda env"
   ]
  },
  {
   "cell_type": "markdown",
   "id": "72743447",
   "metadata": {},
   "source": [
    "# Using pdb attach to debug the command from terminal\n",
    "- Create a python debugger .launch.json file to config like below\n",
    "  ```JSON\n",
    "    {\n",
    "        // Use IntelliSense to learn about possible attributes.\n",
    "        // Hover to view descriptions of existing attributes.\n",
    "        // For more information, visit: https://go.microsoft.com/fwlink/?linkid=830387\n",
    "        \"version\": \"0.2.0\",\n",
    "        \"configurations\": [\n",
    "            {\n",
    "                \"name\": \"Python Debugger: Remote Attach\",\n",
    "                \"type\": \"debugpy\",\n",
    "                \"request\": \"attach\",\n",
    "                \"connect\": {\n",
    "                    \"host\": \"localhost\" # the host ip,\n",
    "                    \"port\": 5678 # the port you are listening\n",
    "                },\n",
    "                \"pathMappings\": [\n",
    "                    {\n",
    "                        \"localRoot\": \"${workspaceFolder}\",\n",
    "                        \"remoteRoot\": \".\"\n",
    "                    }\n",
    "                ]\n",
    "            }\n",
    "        ]\n",
    "    }\n",
    "  ```\n",
    "- Install the debugpy into your virtual env by `pip install debugpy`\n",
    "- Then you can run the python file from terminal and start the debug from vscode\n",
    "- `python -m debubgpy --listen <host_ip>:<port> --wait-for-client <file_names> [args]`"
   ]
  },
  {
   "cell_type": "markdown",
   "id": "bfc1e8c4",
   "metadata": {},
   "source": [
    "# Project structure for rl framework in isaac lab\n",
    "\n",
    "## repository file structure for isaac lab\n",
    "- RL algorithm: ./rsl_rl/\n",
    "- Project in simulation for training: ./project_name\n",
    "\n",
    "- Robot asset folder: ./project_name/assets Under each robot tasks foloder, you will have asset to contains the robot description and the corresponding actuator, sensor cfg for the specific task, Inside the asset python file, we will implement the actuator config based on the omni.isaac.lab.actuators.DCMotorCfg and omni.isaac.lab.assets.articulation.ArticulationCfg\n",
    "\n",
    "- taks folder: ./project_name/locomotion (Under each taks is the env for rl training). Inside the task folder, we will implement all kinds of the training related stuff such as the observation, actions, rewards, terminatons, domain randomization, and curriculum. Most of the training related cfg is based on the mdp\n",
    "\n",
    "- Terrian: ./project_name/terrian: we will implement terrian genertion config python file based on omni.isaac.lab.terrains, omni.isaac.lab.terrains.terrain_generator_cfg.TerrainGeneratorCfg\n",
    "\n",
    "\n",
    "\n",
    "## Some engineering tracks:\n",
    "- [urdf file visualization](https://gkjohnson.github.io/urdf-loaders/javascript/example/bundle/)\n",
    "- urdf2usd: use isaacsim to import the urdf and change several parameters including the material and the like, then we could directly save selected to export the usd file. Usd file contains the stl file in one file, so the file size will be around MB instead of kb\n",
    "- urdf2mjcf by mujoco\n",
    "- mjcf2urdf by pybullet\n",
    "- Please add flag video to save the short clip of the training video to see whether the reward is correctly configured."
   ]
  },
  {
   "cell_type": "markdown",
   "id": "abbef695",
   "metadata": {},
   "source": [
    "# rsl-rl isaac lab debug conclusion\n",
    "## manager based stuff\n",
    "    - just modify the function based on the corresponding manager cfg inside the func / mdp\n",
    "    - env.scene.sensors to get the sensor data from the sim\n",
    "## Custom env creation\n",
    "    - ManagerBasedEnv is the class for isaac sim wrapped gym api\n",
    "    - modify the init(), step(), and reset() func for training \n",
    "    - reset func logic:\n",
    "        1. compute curriculum based on CurriCulmManager\n",
    "        2. curriculm term function is based on the mdp\n",
    "\n",
    "    - observation manager and action manager, reward manager termination_manager"
   ]
  },
  {
   "cell_type": "code",
   "execution_count": null,
   "id": "c1fed4b7",
   "metadata": {
    "vscode": {
     "languageId": "plaintext"
    }
   },
   "outputs": [],
   "source": []
  },
  {
   "cell_type": "markdown",
   "id": "eaf685c6",
   "metadata": {},
   "source": [
    "Motion retargeting technical backgrounds\n",
    "- CMU H2O->OmniH2O->Hover WBC\n"
   ]
  }
 ],
 "metadata": {
  "kernelspec": {
   "display_name": "humanoid",
   "language": "python",
   "name": "python3"
  },
  "language_info": {
   "name": "python",
   "version": "3.10.14"
  }
 },
 "nbformat": 4,
 "nbformat_minor": 5
}
