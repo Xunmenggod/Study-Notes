{
 "cells": [
  {
   "cell_type": "code",
   "execution_count": 1,
   "metadata": {},
   "outputs": [
    {
     "name": "stdout",
     "output_type": "stream",
     "text": [
      "Jupyter environment detected. Enabling Open3D WebVisualizer.\n",
      "[Open3D INFO] WebRTC GUI backend enabled.\n",
      "[Open3D INFO] WebRTCWindowSystem: HTTP handshake server disabled.\n"
     ]
    }
   ],
   "source": [
    "import numpy as np\n",
    "import open3d as o3d\n",
    "import os\n",
    "\n",
    "base_path = './Fruit'\n",
    "data_path = os.path.join(base_path, 'final.ply')\n"
   ]
  },
  {
   "cell_type": "code",
   "execution_count": 2,
   "metadata": {},
   "outputs": [
    {
     "name": "stdout",
     "output_type": "stream",
     "text": [
      "<class 'numpy.ndarray'>\n"
     ]
    }
   ],
   "source": [
    "pcd = o3d.io.read_point_cloud(data_path)\n",
    "print(type(pcd.points[0]))\n",
    "def show_pcl(pcd):\n",
    "    visualizer = o3d.visualization.Visualizer()\n",
    "    visualizer.create_window()\n",
    "    visualizer.get_render_option().point_show_normal = True\n",
    "    visualizer.add_geometry(pcd)\n",
    "    visualizer.run()\n",
    "    # visualizer.destroy_window()"
   ]
  },
  {
   "cell_type": "code",
   "execution_count": 3,
   "metadata": {},
   "outputs": [
    {
     "name": "stdout",
     "output_type": "stream",
     "text": [
      "number of near points: 2000\n",
      "number of near points with in the radius range: 125\n",
      "number of near points with in the radius range: 60\n"
     ]
    }
   ],
   "source": [
    "# make the point cloud to be gray\n",
    "pcd.paint_uniform_color([0.5,0.5,0.5])\n",
    "show_pcl(pcd)\n",
    "\n",
    "pcd_tree = o3d.geometry.KDTreeFlann(pcd)\n",
    "k = 2000\n",
    "pt_idx = 7500\n",
    "[num_pts, idx, _] = pcd_tree.search_knn_vector_3d(pcd.points[pt_idx], k)\n",
    "print(f'number of near points: {num_pts}')\n",
    "#  no copy\n",
    "np.asarray(pcd.colors)[idx[1:], :] = [0, 0, 1]\n",
    "show_pcl(pcd)\n",
    "\n",
    "# use radius to get the near points with in some radius range\n",
    "radius = 3\n",
    "[num_pts, idx, _] = pcd_tree.search_radius_vector_3d(pcd.points[pt_idx], radius)\n",
    "print(f'number of near points with in the radius range: {num_pts}')\n",
    "np.asarray(pcd.colors)[idx[1:], :] = [1, 0, 0]\n",
    "show_pcl(pcd)\n",
    "\n",
    "# use radius to get the near points with in some radius range\n",
    "max_num = 60\n",
    "radius = 3\n",
    "[num_pts, idx, _] = pcd_tree.search_hybrid_vector_3d(pcd.points[pt_idx], radius, max_num)\n",
    "print(f'number of near points with in the radius range: {num_pts}')\n",
    "np.asarray(pcd.colors)[idx[1:], :] = [0, 1, 0]\n",
    "show_pcl(pcd)\n"
   ]
  },
  {
   "cell_type": "code",
   "execution_count": null,
   "metadata": {},
   "outputs": [],
   "source": []
  }
 ],
 "metadata": {
  "kernelspec": {
   "display_name": "torch",
   "language": "python",
   "name": "python3"
  },
  "language_info": {
   "codemirror_mode": {
    "name": "ipython",
    "version": 3
   },
   "file_extension": ".py",
   "mimetype": "text/x-python",
   "name": "python",
   "nbconvert_exporter": "python",
   "pygments_lexer": "ipython3",
   "version": "3.10.13"
  }
 },
 "nbformat": 4,
 "nbformat_minor": 2
}
