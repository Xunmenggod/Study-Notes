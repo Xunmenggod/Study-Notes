{
 "cells": [
  {
   "cell_type": "code",
   "execution_count": 1,
   "metadata": {},
   "outputs": [],
   "source": [
    "import pandas as pd # load csv dara\n",
    "import numpy as np\n",
    "import matplotlib.pyplot as plt\n",
    "import torch as th\n",
    "import torch.nn as nn\n",
    "\n",
    "\n",
    "# data loading \n",
    "data = pd.read_csv('path.csv')\n"
   ]
  },
  {
   "cell_type": "code",
   "execution_count": 5,
   "metadata": {},
   "outputs": [
    {
     "data": {
      "text/plain": [
       "'cuda'"
      ]
     },
     "execution_count": 5,
     "metadata": {},
     "output_type": "execute_result"
    }
   ],
   "source": [
    "device = 'cuda' if th.cuda.is_available() else 'cpu'\n",
    "device"
   ]
  },
  {
   "cell_type": "code",
   "execution_count": 9,
   "metadata": {},
   "outputs": [],
   "source": [
    "def get_seq_data(data, num_stpes):\n",
    "    # @param: data frame in a flat manner\n",
    "    # @param: num_steps: num of past data to predict current data\n",
    "    # @return: return a new numpy array which in shape original_size - num_steps x num_steps + 1 \n",
    "    # (previous num_steps data to predict the current data)\n",
    "    seq_data = np.zeros((data.shape[0]-num_stpes, num_stpes+1))\n",
    "    for i in range(seq_data.shape[0]):\n",
    "        seq_data[i] = data[i:i+num_stpes+1]\n",
    "    return seq_data\n",
    "\n",
    "sequence_data = get_seq_data(data, 7)\n",
    "\n",
    "from sklearn.preprocessing import MinMaxScaler\n",
    "\n",
    "scaler = MinMaxScaler(feature_range=(-1,1))\n",
    "# scalar = scaler.fit(sequence_data)\n",
    "scaled_data = scaler.fit_transform(sequence_data) "
   ]
  },
  {
   "cell_type": "code",
   "execution_count": null,
   "metadata": {},
   "outputs": [],
   "source": [
    "from torch.utils.data import Dataset, DataLoader, random_split\n",
    "import tqdm\n",
    "\n",
    "class SequenceDataset(Dataset):\n",
    "    def __init__(self, data):\n",
    "        super().__init__(data)\n",
    "        self.past_data = data[:, :-1]\n",
    "        self.target = data[:,-1]\n",
    "\n",
    "    def __len__(self):\n",
    "        return len(self.target)\n",
    "\n",
    "    def __getitem__(self, index):\n",
    "        # unsqueeze to make sure the feature size as 1 since we just predict one type value\n",
    "        past_data_tensor = th.tensor(self.past_data[index]).float().unsqueeze(1)\n",
    "        target_tensor = th.tensor(self.target[index]).float().unsqueeze(1)\n",
    "        return past_data_tensor, target_tensor\n",
    "\n",
    "my_dataset = SequenceDataset(scaled_data)\n",
    "split_ratio = 0.9\n",
    "num_train = int(split_ratio * my_dataset.__len__())\n",
    "num_test = my_dataset.__len__() - num_train\n",
    "train_dataset, test_dataset = random_split(my_dataset, [num_train, num_test])\n",
    "batch_size = 64\n",
    "train_data_loader = DataLoader(train_dataset, batch_size=batch_size, shuffle=True)\n",
    "test_data_loader = DataLoader(test_dataset, batch_size=batch_size, shuffle=False)\n",
    "\n",
    "class LSTM(nn.Module):\n",
    "    def __init__(self, input_size = 1, hidden_size=32, num_stacked_layer=3):\n",
    "        super().__init__()\n",
    "        self.input_size = input_size\n",
    "        self.hidden_size = hidden_size\n",
    "        self.num_stacked_layer = num_stacked_layer\n",
    "\n",
    "        # input_size: feature size for single time step input\n",
    "        # hidden_size: output size, number_stacked_layer: number of LSTM recursion module\n",
    "        # if batch first is true, the input tensor should have the shape like [num_batches, time_steps, input_size]\n",
    "        self.lstm = nn.LSTM(self.input_size, self.hidden_size, self.num_stacked_layer,\n",
    "                            batch_first=True)\n",
    "        self.fc = nn.Linear(hidden_size, 1)\n",
    "\n",
    "    def forward(self, x):\n",
    "        batch_size = x.shape[0]\n",
    "        # initialize the cell status and hidden status for starting\n",
    "        # another initialization method is random value instead of zero values\n",
    "        h0 = th.zeros(self.num_stacked_layer, batch_size, self.hidden_size).to(device)\n",
    "        c0 = th.zeros(self.num_stacked_layer, batch_size, self.hidden_size).to(device)\n",
    "        # LSTM takes the data, hidden state and cell state\n",
    "        # LSTM returns two types of output, one is all the final hidden layer output at each time step\n",
    "        # Another is the all the hidden state output at the last time step\n",
    "        out, _ = self.lstm(x, (h0,c0))\n",
    "        out = self.fc(out[:, -1, :])\n",
    "        return out\n",
    "\n",
    "model = LSTM(1,4,1)"
   ]
  },
  {
   "cell_type": "code",
   "execution_count": null,
   "metadata": {},
   "outputs": [],
   "source": [
    "lr = 0.001\n",
    "num_epoches = 100\n",
    "criterion = nn.MSELoss()\n",
    "optimizer = th.optim.Adam(model.parameters, lr)\n",
    "\n",
    "for epoch in num_epoches:\n",
    "    model.train(True)\n",
    "    for _, past_data, target in tqdm(enumerate(train_data_loader)):\n",
    "        past_data, target = past_data.to(device), target.to(device)\n",
    "        out = model(past_data)\n",
    "        loss = criterion(out, target)\n",
    "        optimizer.zero_grad()\n",
    "        loss.backward()\n",
    "        optimizer.step()\n",
    "\n",
    "    # validation\n",
    "    model.eval()\n",
    "    val_loss = 0\n",
    "    for _, past_data, target in enumerate(test_data_loader):\n",
    "        past_data, target = past_data.to(device), target.to(device)\n",
    "\n",
    "        with th.no_grad():\n",
    "            out = model(past_data)\n",
    "            cur_loss = criterion(out, target)\n",
    "            val_loss += cur_loss.item()\n",
    "    avg_val_loss = val_loss / len(test_data_loader)\n"
   ]
  },
  {
   "cell_type": "code",
   "execution_count": 37,
   "metadata": {},
   "outputs": [
    {
     "data": {
      "text/plain": [
       "torch.Size([2, 3])"
      ]
     },
     "execution_count": 37,
     "metadata": {},
     "output_type": "execute_result"
    }
   ],
   "source": [
    "# test module\n",
    "x = np.array([0,1,2,3,4,5])\n",
    "y = np.zeros((3,5))\n",
    "b = th.randn(2,3)\n",
    "b.size()"
   ]
  }
 ],
 "metadata": {
  "kernelspec": {
   "display_name": "torch",
   "language": "python",
   "name": "python3"
  },
  "language_info": {
   "codemirror_mode": {
    "name": "ipython",
    "version": 3
   },
   "file_extension": ".py",
   "mimetype": "text/x-python",
   "name": "python",
   "nbconvert_exporter": "python",
   "pygments_lexer": "ipython3",
   "version": "3.10.13"
  }
 },
 "nbformat": 4,
 "nbformat_minor": 2
}
