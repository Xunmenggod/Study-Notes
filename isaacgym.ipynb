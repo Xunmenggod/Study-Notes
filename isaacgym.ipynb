{
 "cells": [
  {
   "cell_type": "code",
   "execution_count": 7,
   "metadata": {},
   "outputs": [],
   "source": [
    "from isaacgym import gymapi\n",
    "# from isaacgym import gymtorch\n",
    "from isaacgym import gymutil\n",
    "\n",
    "# for util parse arguments: we need to provide several explicit arguments\n",
    "# args = gymutil.parse_arguments(\n",
    "#     description=\"custom env\",\n",
    "#     custom_parameters=[\n",
    "#         {\"name\": \"--asset_id\", \"type\": int, \"default\": 0, \"help\": \"Asset id (0 - 1)\"},\n",
    "#         {\"name\": \"--speed_scale\", \"type\": float, \"default\": 1.0, \"help\": \"Animation speed scale\"},\n",
    "#         {\"name\": \"--show_axis\", \"action\": \"store_true\", \"help\": \"Visualize DOF axis\"}\n",
    "#     ]\n",
    "# )\n",
    "\n",
    "# set simulation parameters\n",
    "sim_params = gymapi.SimParams()\n",
    "sim_params.dt = 0.1\n",
    "sim_params.physx.use_gpu = True\n",
    "sim_params.use_gpu_pipeline = True\n",
    "\n",
    "# customized asset form urdf\n",
    "# grasp_env = gymapi.load"
   ]
  },
  {
   "cell_type": "code",
   "execution_count": 13,
   "metadata": {},
   "outputs": [],
   "source": [
    "# Base class construction \n",
    "class BaseTask():\n",
    "    def __init__(self, cfg, sim_params, physics_engine, sim_device, headless):\n",
    "            self.gym = gymapi.acquire_gym()\n",
    "\n",
    "            self.sim_params = sim_params\n",
    "            self.physics_engine = physics_engine\n",
    "            self.sim_device = sim_device\n",
    "            sim_device_type, self.sim_device_id = gymutil.parse_device_str(self.sim_device)\n",
    "            self.headless = headless"
   ]
  },
  {
   "cell_type": "code",
   "execution_count": 9,
   "metadata": {},
   "outputs": [
    {
     "name": "stdout",
     "output_type": "stream",
     "text": [
      "cuda\n"
     ]
    }
   ],
   "source": [
    "import torch as th\n",
    "device = 'cuda' if th.cuda.is_available() else 'cpu'\n",
    "print(device)"
   ]
  }
 ],
 "metadata": {
  "kernelspec": {
   "display_name": "abs",
   "language": "python",
   "name": "python3"
  },
  "language_info": {
   "codemirror_mode": {
    "name": "ipython",
    "version": 3
   },
   "file_extension": ".py",
   "mimetype": "text/x-python",
   "name": "python",
   "nbconvert_exporter": "python",
   "pygments_lexer": "ipython3",
   "version": "3.8.19"
  }
 },
 "nbformat": 4,
 "nbformat_minor": 2
}
